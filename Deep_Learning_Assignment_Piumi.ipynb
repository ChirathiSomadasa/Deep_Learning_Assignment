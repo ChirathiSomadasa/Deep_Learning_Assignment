{
  "nbformat": 4,
  "nbformat_minor": 0,
  "metadata": {
    "colab": {
      "provenance": [],
      "authorship_tag": "ABX9TyO/yd9vNzOUSEN30pckIT8V",
      "include_colab_link": true
    },
    "kernelspec": {
      "name": "python3",
      "display_name": "Python 3"
    },
    "language_info": {
      "name": "python"
    }
  },
  "cells": [
    {
      "cell_type": "markdown",
      "metadata": {
        "id": "view-in-github",
        "colab_type": "text"
      },
      "source": [
        "<a href=\"https://colab.research.google.com/github/ChirathiSomadasa/Deep_Learning_Assignment/blob/Balasooriya-B.M.P.U/Deep_Learning_Assignment_Piumi.ipynb\" target=\"_parent\"><img src=\"https://colab.research.google.com/assets/colab-badge.svg\" alt=\"Open In Colab\"/></a>"
      ]
    },
    {
      "cell_type": "markdown",
      "source": [
        "#**Plant Disease Classification**"
      ],
      "metadata": {
        "id": "vjUA2ovIPD_V"
      }
    },
    {
      "cell_type": "markdown",
      "source": [
        "##**Balasooriya B.M.P.U.  -  IT22927248**"
      ],
      "metadata": {
        "id": "yhjrWEGcPMB7"
      }
    },
    {
      "cell_type": "markdown",
      "source": [
        "### Transfer Leaning Specialist - Custom CNN"
      ],
      "metadata": {
        "id": "Tp4Ra_6iPV37"
      }
    },
    {
      "cell_type": "code",
      "execution_count": null,
      "metadata": {
        "id": "QS4kiPCtPC0E"
      },
      "outputs": [],
      "source": []
    }
  ]
}